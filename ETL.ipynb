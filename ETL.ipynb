{
  "nbformat": 4,
  "nbformat_minor": 0,
  "metadata": {
    "colab": {
      "name": "ETL.ipynb",
      "provenance": [],
      "collapsed_sections": []
    },
    "kernelspec": {
      "name": "python3",
      "display_name": "Python 3"
    }
  },
  "cells": [
    {
      "cell_type": "code",
      "metadata": {
        "id": "GfqUrXjRZDxM",
        "outputId": "85a7578c-b36a-4b5b-a302-62c5f290d23d",
        "colab": {
          "base_uri": "https://localhost:8080/"
        }
      },
      "source": [
        "import os\n",
        "# Find the latest version of spark 3.0  from http://www-us.apache.org/dist/spark/ and enter as the spark version\n",
        "# For example:\n",
        "spark_version = 'spark-3.0.1'\n",
        "# spark_version = 'spark-3.<enter version>'\n",
        "os.environ['SPARK_VERSION']=spark_version\n",
        "\n",
        "# Install Spark and Java\n",
        "!apt-get update\n",
        "!apt-get install openjdk-11-jdk-headless -qq > /dev/null\n",
        "!wget -q http://www-us.apache.org/dist/spark/$SPARK_VERSION/$SPARK_VERSION-bin-hadoop2.7.tgz\n",
        "!tar xf $SPARK_VERSION-bin-hadoop2.7.tgz\n",
        "!pip install -q findspark\n",
        "\n",
        "# Set Environment Variables\n",
        "os.environ[\"JAVA_HOME\"] = \"/usr/lib/jvm/java-11-openjdk-amd64\"\n",
        "os.environ[\"SPARK_HOME\"] = f\"/content/{spark_version}-bin-hadoop2.7\"\n",
        "\n",
        "# Start a SparkSession\n",
        "import findspark\n",
        "findspark.init()"
      ],
      "execution_count": 1,
      "outputs": [
        {
          "output_type": "stream",
          "text": [
            "Ign:1 https://developer.download.nvidia.com/compute/cuda/repos/ubuntu1804/x86_64  InRelease\n",
            "Get:2 http://security.ubuntu.com/ubuntu bionic-security InRelease [88.7 kB]\n",
            "Ign:3 https://developer.download.nvidia.com/compute/machine-learning/repos/ubuntu1804/x86_64  InRelease\n",
            "Get:4 https://developer.download.nvidia.com/compute/cuda/repos/ubuntu1804/x86_64  Release [697 B]\n",
            "Get:5 https://developer.download.nvidia.com/compute/machine-learning/repos/ubuntu1804/x86_64  Release [564 B]\n",
            "Get:6 https://developer.download.nvidia.com/compute/cuda/repos/ubuntu1804/x86_64  Release.gpg [836 B]\n",
            "Get:7 http://ppa.launchpad.net/c2d4u.team/c2d4u4.0+/ubuntu bionic InRelease [15.9 kB]\n",
            "Hit:8 http://archive.ubuntu.com/ubuntu bionic InRelease\n",
            "Get:9 https://developer.download.nvidia.com/compute/machine-learning/repos/ubuntu1804/x86_64  Release.gpg [833 B]\n",
            "Get:10 https://cloud.r-project.org/bin/linux/ubuntu bionic-cran40/ InRelease [3,626 B]\n",
            "Get:11 http://archive.ubuntu.com/ubuntu bionic-updates InRelease [88.7 kB]\n",
            "Ign:12 https://developer.download.nvidia.com/compute/cuda/repos/ubuntu1804/x86_64  Packages\n",
            "Get:12 https://developer.download.nvidia.com/compute/cuda/repos/ubuntu1804/x86_64  Packages [407 kB]\n",
            "Get:13 http://ppa.launchpad.net/graphics-drivers/ppa/ubuntu bionic InRelease [21.3 kB]\n",
            "Get:14 https://developer.download.nvidia.com/compute/machine-learning/repos/ubuntu1804/x86_64  Packages [58.5 kB]\n",
            "Get:15 http://archive.ubuntu.com/ubuntu bionic-backports InRelease [74.6 kB]\n",
            "Get:16 http://security.ubuntu.com/ubuntu bionic-security/main amd64 Packages [1,781 kB]\n",
            "Get:17 http://ppa.launchpad.net/c2d4u.team/c2d4u4.0+/ubuntu bionic/main Sources [1,688 kB]\n",
            "Get:18 http://archive.ubuntu.com/ubuntu bionic-updates/main amd64 Packages [2,198 kB]\n",
            "Get:19 http://security.ubuntu.com/ubuntu bionic-security/universe amd64 Packages [1,365 kB]\n",
            "Get:20 http://security.ubuntu.com/ubuntu bionic-security/multiverse amd64 Packages [15.8 kB]\n",
            "Get:21 http://security.ubuntu.com/ubuntu bionic-security/restricted amd64 Packages [222 kB]\n",
            "Get:22 http://archive.ubuntu.com/ubuntu bionic-updates/multiverse amd64 Packages [46.3 kB]\n",
            "Get:23 http://archive.ubuntu.com/ubuntu bionic-updates/restricted amd64 Packages [247 kB]\n",
            "Get:24 http://archive.ubuntu.com/ubuntu bionic-updates/universe amd64 Packages [2,129 kB]\n",
            "Get:25 http://ppa.launchpad.net/c2d4u.team/c2d4u4.0+/ubuntu bionic/main amd64 Packages [864 kB]\n",
            "Get:26 http://ppa.launchpad.net/graphics-drivers/ppa/ubuntu bionic/main amd64 Packages [46.6 kB]\n",
            "Fetched 11.4 MB in 7s (1,698 kB/s)\n",
            "Reading package lists... Done\n"
          ],
          "name": "stdout"
        }
      ]
    },
    {
      "cell_type": "code",
      "metadata": {
        "id": "2X3OQPfUvGX9",
        "outputId": "a871d1e6-e0d9-44cd-f45a-d8e1f98faa25",
        "colab": {
          "base_uri": "https://localhost:8080/"
        }
      },
      "source": [
        "!wget https://jdbc.postgresql.org/download/postgresql-42.2.9.jar"
      ],
      "execution_count": 2,
      "outputs": [
        {
          "output_type": "stream",
          "text": [
            "--2020-11-13 19:03:36--  https://jdbc.postgresql.org/download/postgresql-42.2.9.jar\n",
            "Resolving jdbc.postgresql.org (jdbc.postgresql.org)... 72.32.157.228, 2001:4800:3e1:1::228\n",
            "Connecting to jdbc.postgresql.org (jdbc.postgresql.org)|72.32.157.228|:443... connected.\n",
            "HTTP request sent, awaiting response... 200 OK\n",
            "Length: 914037 (893K) [application/java-archive]\n",
            "Saving to: ‘postgresql-42.2.9.jar’\n",
            "\n",
            "postgresql-42.2.9.j 100%[===================>] 892.61K  1.05MB/s    in 0.8s    \n",
            "\n",
            "2020-11-13 19:03:37 (1.05 MB/s) - ‘postgresql-42.2.9.jar’ saved [914037/914037]\n",
            "\n"
          ],
          "name": "stdout"
        }
      ]
    },
    {
      "cell_type": "code",
      "metadata": {
        "id": "iD4WphUqZF2L"
      },
      "source": [
        "from pyspark.sql import SparkSession\n",
        "spark = SparkSession.builder.appName(\"NCAA\").config(\"spark.driver.extraClassPath\",\"/content/postgresql-42.2.9.jar\").getOrCreate()"
      ],
      "execution_count": 3,
      "outputs": []
    },
    {
      "cell_type": "markdown",
      "metadata": {
        "id": "A_dg78ZuswA7"
      },
      "source": [
        "Extraction"
      ]
    },
    {
      "cell_type": "code",
      "metadata": {
        "id": "701kGYE3ZJo0",
        "outputId": "a1c6f351-458f-4545-c8e4-05b20eead9fc",
        "colab": {
          "base_uri": "https://localhost:8080/"
        }
      },
      "source": [
        "from pyspark import SparkFiles\n",
        "# Connecting to S3 for Basketball Stats\n",
        "url = \"https://ncaaproject.s3-us-west-1.amazonaws.com/NBA.csv\"\n",
        "spark.sparkContext.addFile(url)\n",
        "\n",
        "Stats = spark.read.option(\"header\", \"true\").csv(SparkFiles.get(\"NBA.csv\"), inferSchema=True, sep=\",\")\n",
        "Stats.show(10)"
      ],
      "execution_count": 4,
      "outputs": [
        {
          "output_type": "stream",
          "text": [
            "+-----------------+----+---+----+---+----+-------------------+---+---+-------------------+---+---+------------------+---+---+---+---+---+---+---+---+----+\n",
            "|           Player|Team| GP| MPG|FGM| FGA|                FG%|3PM|3PA|                3P%|FTM|FTA|               FT%|TOV| PF|ORB|DRB|RPG|APG|SPG|BPG| PPG|\n",
            "+-----------------+----+---+----+---+----+-------------------+---+---+-------------------+---+---+------------------+---+---+---+---+---+---+---+---+----+\n",
            "|     Tyler Harvey| EWU| 32|36.9|7.2|15.3|              0.469|4.0|9.3|              0.431|4.7|5.5|             0.852|2.0|1.9|0.6|3.0|3.6|2.6|1.1|0.1|23.1|\n",
            "|     Zeek Woodley| NSU| 32|31.5|8.2|14.6|               0.56|1.2|3.1|0.39799999999999996|4.6|5.7|             0.813|1.2|2.3|1.7|3.3|5.0|1.1|1.0|0.7|22.2|\n",
            "|       Tyler Haws| BYU| 35|32.1|7.4|15.4|               0.48|1.5|4.2|0.36700000000000005|5.9|6.7|             0.873|2.0|1.4|1.3|3.1|4.5|2.4|0.9|0.3|22.2|\n",
            "|Denzel Livingston| UIW| 29|36.9|6.6|14.4|              0.455|1.6|4.6|0.34299999999999997|6.8|8.5|             0.805|2.8|3.0|1.5|4.4|5.9|2.9|2.6|1.3|21.5|\n",
            "|       Damion Lee|DREX| 27|38.1|6.3|14.4|0.43799999999999994|2.4|6.3|              0.385|6.4|7.2|             0.887|1.9|2.2|0.9|5.2|6.1|2.3|1.5|0.3|21.4|\n",
            "|      Saah Nimley| CSU| 31|35.7|5.9|15.4|              0.384|3.5|9.9|              0.358|6.0|7.4|              0.82|2.7|2.2|0.5|3.5|4.1|4.1|0.9|0.0|21.4|\n",
            "|        Amere May|DESU| 32|34.2|7.1|17.0|              0.418|2.8|7.2|              0.387|4.0|4.9|             0.821|2.9|1.8|1.0|3.2|4.2|2.7|1.0|0.2|21.0|\n",
            "|    Corey Hawkins| UCD| 28|33.4|6.7|13.4|              0.503|2.9|5.9|              0.488|4.6|5.6|0.8220000000000001|3.0|1.9|0.7|4.2|4.9|3.4|1.4|0.2|20.9|\n",
            "|     D.J. Newbill| PSU| 34|37.1|7.1|15.9|               0.45|1.8|4.9|               0.37|4.6|6.1|             0.758|2.6|2.1|1.1|3.6|4.7|3.1|1.3|0.2|20.7|\n",
            "|        Joe Young|  UO| 36|36.7|7.4|16.4|0.44799999999999995|2.5|7.1|0.35700000000000004|3.4|3.7|             0.925|2.4|1.4|0.5|3.9|4.4|3.8|1.1|0.0|20.7|\n",
            "+-----------------+----+---+----+---+----+-------------------+---+---+-------------------+---+---+------------------+---+---+---+---+---+---+---+---+----+\n",
            "only showing top 10 rows\n",
            "\n"
          ],
          "name": "stdout"
        }
      ]
    },
    {
      "cell_type": "code",
      "metadata": {
        "id": "HpZNQIBxl0O3",
        "outputId": "c275e6ff-71ca-4f2f-9481-33b2266bd41f",
        "colab": {
          "base_uri": "https://localhost:8080/"
        }
      },
      "source": [
        "Stats.count()"
      ],
      "execution_count": 5,
      "outputs": [
        {
          "output_type": "execute_result",
          "data": {
            "text/plain": [
              "11762"
            ]
          },
          "metadata": {
            "tags": []
          },
          "execution_count": 5
        }
      ]
    },
    {
      "cell_type": "code",
      "metadata": {
        "id": "qAfExIVrbwss",
        "outputId": "5bd9b69c-aaa1-43a6-a836-f0b087896608",
        "colab": {
          "base_uri": "https://localhost:8080/"
        }
      },
      "source": [
        "# Print our schema\n",
        "Stats.printSchema()"
      ],
      "execution_count": 6,
      "outputs": [
        {
          "output_type": "stream",
          "text": [
            "root\n",
            " |-- Player: string (nullable = true)\n",
            " |-- Team: string (nullable = true)\n",
            " |-- GP: integer (nullable = true)\n",
            " |-- MPG: double (nullable = true)\n",
            " |-- FGM: double (nullable = true)\n",
            " |-- FGA: double (nullable = true)\n",
            " |-- FG%: double (nullable = true)\n",
            " |-- 3PM: double (nullable = true)\n",
            " |-- 3PA: double (nullable = true)\n",
            " |-- 3P%: double (nullable = true)\n",
            " |-- FTM: double (nullable = true)\n",
            " |-- FTA: double (nullable = true)\n",
            " |-- FT%: double (nullable = true)\n",
            " |-- TOV: double (nullable = true)\n",
            " |-- PF: double (nullable = true)\n",
            " |-- ORB: double (nullable = true)\n",
            " |-- DRB: double (nullable = true)\n",
            " |-- RPG: double (nullable = true)\n",
            " |-- APG: double (nullable = true)\n",
            " |-- SPG: double (nullable = true)\n",
            " |-- BPG: double (nullable = true)\n",
            " |-- PPG: double (nullable = true)\n",
            "\n"
          ],
          "name": "stdout"
        }
      ]
    },
    {
      "cell_type": "code",
      "metadata": {
        "id": "-9Y_rUV3_r13",
        "outputId": "55f58821-7dc0-447e-ab9f-af2d592fbf93",
        "colab": {
          "base_uri": "https://localhost:8080/"
        }
      },
      "source": [
        "from pyspark import SparkFiles\n",
        "# Connecting to S3 for NBA draft data\n",
        "url = \"https://ncaaproject.s3-us-west-1.amazonaws.com/NBAdraft.csv\"\n",
        "spark.sparkContext.addFile(url)\n",
        "\n",
        "NBAdraft = spark.read.option(\"header\", \"true\").csv(SparkFiles.get(\"NBAdraft.csv\"), inferSchema=True, sep=\",\")\n",
        "NBAdraft.show(10)"
      ],
      "execution_count": 7,
      "outputs": [
        {
          "output_type": "stream",
          "text": [
            "+---+--------------------+------------+--------+\n",
            "| Pk|              Player|  Conference| College|\n",
            "+---+--------------------+------------+--------+\n",
            "|  8|       Collin Sexton|Southeastern| Alabama|\n",
            "|  1|       Deandre Ayton|      PAC-12| Arizona|\n",
            "|  7|     Lauri Markkanen|      PAC-12| Arizona|\n",
            "| 53|        Kadeem Allen|      PAC-12| Arizona|\n",
            "|  8|     Stanley Johnson|      PAC-12| Arizona|\n",
            "| 23|Rondae Hollis-Jef...|      PAC-12| Arizona|\n",
            "| 38|      Daniel Gafford|Southeastern|Arkansas|\n",
            "| 22|        Bobby Portis|Southeastern|Arkansas|\n",
            "| 16|         Chuma Okeke|Southeastern|  Auburn|\n",
            "| 12|Taurean Waller-Pr...|      Big-12|  Baylor|\n",
            "+---+--------------------+------------+--------+\n",
            "only showing top 10 rows\n",
            "\n"
          ],
          "name": "stdout"
        }
      ]
    },
    {
      "cell_type": "code",
      "metadata": {
        "id": "Z0g1SRWnAAtH",
        "outputId": "04375b83-0e04-45a7-82e5-90018a0e4171",
        "colab": {
          "base_uri": "https://localhost:8080/"
        }
      },
      "source": [
        "NBAdraft.count()"
      ],
      "execution_count": 8,
      "outputs": [
        {
          "output_type": "execute_result",
          "data": {
            "text/plain": [
              "300"
            ]
          },
          "metadata": {
            "tags": []
          },
          "execution_count": 8
        }
      ]
    },
    {
      "cell_type": "code",
      "metadata": {
        "id": "3pt6yp_6ADp_",
        "outputId": "3b3c5207-3360-495c-992c-f84c8e6c4dbb",
        "colab": {
          "base_uri": "https://localhost:8080/"
        }
      },
      "source": [
        "# Print our schema\n",
        "NBAdraft.printSchema()"
      ],
      "execution_count": 9,
      "outputs": [
        {
          "output_type": "stream",
          "text": [
            "root\n",
            " |-- Pk: integer (nullable = true)\n",
            " |-- Player: string (nullable = true)\n",
            " |-- Conference: string (nullable = true)\n",
            " |-- College: string (nullable = true)\n",
            "\n"
          ],
          "name": "stdout"
        }
      ]
    },
    {
      "cell_type": "code",
      "metadata": {
        "id": "KAdPQf4p_12X",
        "outputId": "41c624ec-1fad-49db-ffeb-cb9c3c22ac36",
        "colab": {
          "base_uri": "https://localhost:8080/"
        }
      },
      "source": [
        "from pyspark import SparkFiles\n",
        "# Connecting to S3 for NFL Draft Data\n",
        "url = \"https://ncaaproject.s3-us-west-1.amazonaws.com/NFLdraftData.csv\"\n",
        "spark.sparkContext.addFile(url)\n",
        "\n",
        "NFL_df = spark.read.option(\"header\", \"true\").csv(SparkFiles.get(\"NFLdraftData.csv\"), inferSchema=True, sep=\",\")\n",
        "NFL_df.show(10)"
      ],
      "execution_count": 7,
      "outputs": [
        {
          "output_type": "stream",
          "text": [
            "+----------+---+----+-----------------+----------------+---+----+----+---+---+---+-----+----+----+----+-----+-----+----+-----+-----+-----+----+----+-----+----+----+-----+----+-------------+\n",
            "|Draft Year|Rnd|Pick|               Tm|          Player|Pos| Age|  To|AP1| PB| St|CarAV|DrAV|   G| Cmp|Att15|Yds16|TD17|Int18|Att19|Yds20|TD21| Rec|Yds23|TD24|Solo|Int26|  Sk| College/Univ|\n",
            "+----------+---+----+-----------------+----------------+---+----+----+---+---+---+-----+----+----+----+-----+-----+----+-----+-----+-----+----+----+-----+----+----+-----+----+-------------+\n",
            "|      2020|  1|   8|Arizona Cardinals|  Isaiah Simmons| LB|  22|2020|  0|  0|  0|    0|   0|   8|   0|    0|    0|   0|    0|    0|    0|   0|   0|    0|   0|  14|    1|null|      Clemson|\n",
            "|      2020|  3|  72|Arizona Cardinals|      Josh Jones|  T|  23|2020|  0|  0|  0|    0|   0|   5|   0|    0|    0|   0|    0|    0|    0|   0|   0|    0|   0|null| null|null|      Houston|\n",
            "|      2020|  4| 114|Arizona Cardinals|       Leki Fotu| DT|  22|2020|  0|  0|  0|    0|   0|   6|   0|    0|    0|   0|    0|    0|    0|   0|   0|    0|   0|   2| null|null|         Utah|\n",
            "|      2020|  4| 131|Arizona Cardinals|Rashard Lawrence| DT|  22|2020|  0|  0|  0|    0|   0|   5|   0|    0|    0|   0|    0|    0|    0|   0|   0|    0|   0|   2| null|null|          LSU|\n",
            "|      2020|  6| 202|Arizona Cardinals|     Evan Weaver| LB|null|null|  0|  0|  0| null|null|null|null| null| null|null| null| null| null|null|null| null|null|null| null|null|   California|\n",
            "|      2020|  7| 222|Arizona Cardinals|    Eno Benjamin| RB|  21|null|  0|  0|  0| null|null|null|null| null| null|null| null| null| null|null|null| null|null|null| null|null|Arizona State|\n",
            "|      2019|  1|   1|Arizona Cardinals|    Kyler Murray| QB|  22|2020|  0|  0|  1|   14|  14|  24| 539|  821| 5852|  36|   19|  169| 1087|  12|   0|    0|   0|null| null|null|     Oklahoma|\n",
            "|      2019|  2|  33|Arizona Cardinals|    Byron Murphy| CB|  21|2020|  0|  0|  1|    5|   5|  23|   0|    0|    0|   0|    0|    0|    0|   0|   0|    0|   0|  85|    1| 1.0|   Washington|\n",
            "|      2019|  2|  62|Arizona Cardinals|   Andy Isabella| WR|  22|2020|  0|  0|  0|    2|   2|  23|   0|    0|    0|   0|    0|    5|    9|   0|  22|  353|   3|   1| null|null|Massachusetts|\n",
            "|      2019|  3|  65|Arizona Cardinals|      Zach Allen| DE|  22|2020|  0|  0|  0|    1|   1|  11|   0|    0|    0|   0|    0|    0|    0|   0|   0|    0|   0|  13| null| 1.0|  Boston Col.|\n",
            "+----------+---+----+-----------------+----------------+---+----+----+---+---+---+-----+----+----+----+-----+-----+----+-----+-----+-----+----+----+-----+----+----+-----+----+-------------+\n",
            "only showing top 10 rows\n",
            "\n"
          ],
          "name": "stdout"
        }
      ]
    },
    {
      "cell_type": "code",
      "metadata": {
        "id": "rcV8npZwAyIH",
        "outputId": "8fc1e55e-6c94-4af7-aab1-54e8460acc28",
        "colab": {
          "base_uri": "https://localhost:8080/"
        }
      },
      "source": [
        "NFL_df.count()"
      ],
      "execution_count": 8,
      "outputs": [
        {
          "output_type": "execute_result",
          "data": {
            "text/plain": [
              "1531"
            ]
          },
          "metadata": {
            "tags": []
          },
          "execution_count": 8
        }
      ]
    },
    {
      "cell_type": "code",
      "metadata": {
        "id": "dJjAc706A0J6",
        "outputId": "d069a5bb-3a8e-4586-e540-d523ac1fda80",
        "colab": {
          "base_uri": "https://localhost:8080/"
        }
      },
      "source": [
        "# Print our schema\n",
        "NFL_df.printSchema()"
      ],
      "execution_count": 9,
      "outputs": [
        {
          "output_type": "stream",
          "text": [
            "root\n",
            " |-- Draft Year: integer (nullable = true)\n",
            " |-- Rnd: integer (nullable = true)\n",
            " |-- Pick: integer (nullable = true)\n",
            " |-- Tm: string (nullable = true)\n",
            " |-- Player: string (nullable = true)\n",
            " |-- Pos: string (nullable = true)\n",
            " |-- Age: integer (nullable = true)\n",
            " |-- To: integer (nullable = true)\n",
            " |-- AP1: integer (nullable = true)\n",
            " |-- PB: integer (nullable = true)\n",
            " |-- St: integer (nullable = true)\n",
            " |-- CarAV: integer (nullable = true)\n",
            " |-- DrAV: integer (nullable = true)\n",
            " |-- G: integer (nullable = true)\n",
            " |-- Cmp: integer (nullable = true)\n",
            " |-- Att15: integer (nullable = true)\n",
            " |-- Yds16: integer (nullable = true)\n",
            " |-- TD17: integer (nullable = true)\n",
            " |-- Int18: integer (nullable = true)\n",
            " |-- Att19: integer (nullable = true)\n",
            " |-- Yds20: integer (nullable = true)\n",
            " |-- TD21: integer (nullable = true)\n",
            " |-- Rec: integer (nullable = true)\n",
            " |-- Yds23: integer (nullable = true)\n",
            " |-- TD24: integer (nullable = true)\n",
            " |-- Solo: integer (nullable = true)\n",
            " |-- Int26: integer (nullable = true)\n",
            " |-- Sk: double (nullable = true)\n",
            " |-- College/Univ: string (nullable = true)\n",
            "\n"
          ],
          "name": "stdout"
        }
      ]
    },
    {
      "cell_type": "code",
      "metadata": {
        "id": "6sjVGZIJt9Db",
        "outputId": "82ed29c1-4a4b-4d29-cb69-2e4badbcb738",
        "colab": {
          "base_uri": "https://localhost:8080/"
        }
      },
      "source": [
        "from pyspark import SparkFiles\n",
        "# Connecting to S3 for School Data\n",
        "url = \"https://ncaaproject.s3-us-west-1.amazonaws.com/SchoolCleaned.csv\"\n",
        "spark.sparkContext.addFile(url)\n",
        "\n",
        "School_df = spark.read.option(\"header\", \"true\").csv(SparkFiles.get(\"SchoolCleaned.csv\"), inferSchema=True, sep=\",\")\n",
        "School_df.show(10)"
      ],
      "execution_count": 4,
      "outputs": [
        {
          "output_type": "stream",
          "text": [
            "+--------------------+----------+------------+-----+--------+--------+----------+\n",
            "|              School|  Latitude|   Longitude|State| REV_MEN| EXP_MEN|    Sports|\n",
            "+--------------------+----------+------------+-----+--------+--------+----------+\n",
            "|Alabama State Uni...|32.3651836| -86.2957213|   AL|  992694|  992694|Basketball|\n",
            "|Alabama State Uni...|32.3651836| -86.2957213|   AL| 3622267| 3622267|  Football|\n",
            "|Albany State Univ...|31.5734365| -84.1425655|   GA|   88125|  255918|Basketball|\n",
            "|Albany State Univ...|31.5734365| -84.1425655|   GA|  229371| 1160234|  Football|\n",
            "|Appalachian State...|36.2109506| -81.6777048|   NC| 1952593| 1952593|Basketball|\n",
            "|Appalachian State...|36.2109506| -81.6777048|   NC| 9365952| 9365952|  Football|\n",
            "|Arizona State Uni...|33.4219437|-111.9400636|   AZ|10609465| 8349598|Basketball|\n",
            "|Arizona State Uni...|33.4219437|-111.9400636|   AZ|39007842|26245544|  Football|\n",
            "|Arkansas State Un...|35.8414567| -90.6806034|   AR| 1578156| 1578156|Basketball|\n",
            "|Arkansas State Un...|35.8414567| -90.6806034|   AR| 7789945| 7789945|  Football|\n",
            "+--------------------+----------+------------+-----+--------+--------+----------+\n",
            "only showing top 10 rows\n",
            "\n"
          ],
          "name": "stdout"
        }
      ]
    },
    {
      "cell_type": "code",
      "metadata": {
        "id": "xlWxkN0uuSQR",
        "outputId": "86c7cc75-5b27-4acb-e7b3-ebf6c537159a",
        "colab": {
          "base_uri": "https://localhost:8080/"
        }
      },
      "source": [
        "School_df.count()"
      ],
      "execution_count": 21,
      "outputs": [
        {
          "output_type": "execute_result",
          "data": {
            "text/plain": [
              "508"
            ]
          },
          "metadata": {
            "tags": []
          },
          "execution_count": 21
        }
      ]
    },
    {
      "cell_type": "code",
      "metadata": {
        "id": "8QRNDwiOuU-o",
        "outputId": "6e8d23fd-ae43-49d4-a979-56bdcc02ad58",
        "colab": {
          "base_uri": "https://localhost:8080/"
        }
      },
      "source": [
        "# Print our schema\n",
        "School_df.printSchema()"
      ],
      "execution_count": 23,
      "outputs": [
        {
          "output_type": "stream",
          "text": [
            "root\n",
            " |-- School: string (nullable = true)\n",
            " |-- Latitude: double (nullable = true)\n",
            " |-- Longitude: double (nullable = true)\n",
            " |-- REV_MEN: integer (nullable = true)\n",
            " |-- EXP_MEN: integer (nullable = true)\n",
            " |-- Sports: string (nullable = true)\n",
            "\n"
          ],
          "name": "stdout"
        }
      ]
    },
    {
      "cell_type": "markdown",
      "metadata": {
        "id": "Mig4jLXfuZy_"
      },
      "source": [
        "**Transformation**"
      ]
    },
    {
      "cell_type": "code",
      "metadata": {
        "id": "6oCJKQxvAR2F",
        "outputId": "3f2c5b96-6ca7-4198-e7c5-4154fd48adc3",
        "colab": {
          "base_uri": "https://localhost:8080/"
        }
      },
      "source": [
        "Stats = Stats.withColumnRenamed(\"FG%\", \"FG_pct\")\n",
        "Stats = Stats.withColumnRenamed(\"3PM\", \"ThreePM\")\n",
        "Stats = Stats.withColumnRenamed(\"3PA\", \"ThreePA\")\n",
        "Stats = Stats.withColumnRenamed(\"3P%\", \"Three_pct\")\n",
        "Stats = Stats.withColumnRenamed(\"FT%\", \"FT_pct\")\n",
        "Stats.show()"
      ],
      "execution_count": 12,
      "outputs": [
        {
          "output_type": "stream",
          "text": [
            "+-----------------+----+---+----+---+----+-------------------+-------+-------+-------------------+---+---+------------------+---+---+---+---+---+---+---+---+----+\n",
            "|           Player|Team| GP| MPG|FGM| FGA|             FG_pct|ThreePM|ThreePA|          Three_pct|FTM|FTA|            FT_pct|TOV| PF|ORB|DRB|RPG|APG|SPG|BPG| PPG|\n",
            "+-----------------+----+---+----+---+----+-------------------+-------+-------+-------------------+---+---+------------------+---+---+---+---+---+---+---+---+----+\n",
            "|     Tyler Harvey| EWU| 32|36.9|7.2|15.3|              0.469|    4.0|    9.3|              0.431|4.7|5.5|             0.852|2.0|1.9|0.6|3.0|3.6|2.6|1.1|0.1|23.1|\n",
            "|     Zeek Woodley| NSU| 32|31.5|8.2|14.6|               0.56|    1.2|    3.1|0.39799999999999996|4.6|5.7|             0.813|1.2|2.3|1.7|3.3|5.0|1.1|1.0|0.7|22.2|\n",
            "|       Tyler Haws| BYU| 35|32.1|7.4|15.4|               0.48|    1.5|    4.2|0.36700000000000005|5.9|6.7|             0.873|2.0|1.4|1.3|3.1|4.5|2.4|0.9|0.3|22.2|\n",
            "|Denzel Livingston| UIW| 29|36.9|6.6|14.4|              0.455|    1.6|    4.6|0.34299999999999997|6.8|8.5|             0.805|2.8|3.0|1.5|4.4|5.9|2.9|2.6|1.3|21.5|\n",
            "|       Damion Lee|DREX| 27|38.1|6.3|14.4|0.43799999999999994|    2.4|    6.3|              0.385|6.4|7.2|             0.887|1.9|2.2|0.9|5.2|6.1|2.3|1.5|0.3|21.4|\n",
            "|      Saah Nimley| CSU| 31|35.7|5.9|15.4|              0.384|    3.5|    9.9|              0.358|6.0|7.4|              0.82|2.7|2.2|0.5|3.5|4.1|4.1|0.9|0.0|21.4|\n",
            "|        Amere May|DESU| 32|34.2|7.1|17.0|              0.418|    2.8|    7.2|              0.387|4.0|4.9|             0.821|2.9|1.8|1.0|3.2|4.2|2.7|1.0|0.2|21.0|\n",
            "|    Corey Hawkins| UCD| 28|33.4|6.7|13.4|              0.503|    2.9|    5.9|              0.488|4.6|5.6|0.8220000000000001|3.0|1.9|0.7|4.2|4.9|3.4|1.4|0.2|20.9|\n",
            "|     D.J. Newbill| PSU| 34|37.1|7.1|15.9|               0.45|    1.8|    4.9|               0.37|4.6|6.1|             0.758|2.6|2.1|1.1|3.6|4.7|3.1|1.3|0.2|20.7|\n",
            "|        Joe Young|  UO| 36|36.7|7.4|16.4|0.44799999999999995|    2.5|    7.1|0.35700000000000004|3.4|3.7|             0.925|2.4|1.4|0.5|3.9|4.4|3.8|1.1|0.0|20.7|\n",
            "|  Chavaughn Lewis| MAR| 29|35.7|7.0|16.9|              0.413|    1.4|    4.9|              0.289|5.1|7.7|             0.665|3.6|2.4|0.9|4.4|5.3|2.7|2.3|0.8|20.6|\n",
            "|        Ty Greene|USCU| 35|34.0|6.6|14.9|              0.444|    2.9|    7.2|0.40700000000000003|4.1|5.4|0.7509999999999999|1.3|1.6|0.9|2.2|3.1|2.1|2.1|0.2|20.3|\n",
            "|      Jalen Riley|ETSU| 29|27.5|5.7|14.7|              0.387|    2.8|    7.4|              0.374|6.1|7.4|0.8270000000000001|2.8|3.3|0.4|1.9|2.3|2.7|1.7|0.1|20.2|\n",
            "|    Cameron Payne| MSU| 35|32.2|7.0|15.3|              0.456|    2.4|    6.4|              0.377|3.8|4.8|             0.787|2.5|2.1|0.6|3.1|3.7|6.0|1.9|0.5|20.2|\n",
            "| A.J. English III|  IC| 34|37.4|6.2|14.4|0.43200000000000005|    3.1|    8.1|              0.387|4.6|5.8|             0.787|3.8|2.7|0.8|4.4|5.1|5.1|1.4|0.5|20.1|\n",
            "|   D.J. Balentine|  UE| 36|36.6|6.8|15.6|              0.435|    2.1|    5.2|              0.392|4.4|5.9|              0.75|2.2|1.0|0.5|2.7|3.2|3.2|0.8|0.2|20.1|\n",
            "|       Jalan West| NSU| 32|34.5|6.0|13.2|              0.456|    2.7|    6.4|0.42200000000000004|5.3|6.1|             0.862|2.8|2.0|0.6|3.8|4.4|7.7|2.1|0.3|20.0|\n",
            "|  Marcus Thornton| W&M| 33|36.7|6.5|14.3|              0.456|    3.1|    7.7|              0.402|3.8|4.6|              0.83|2.3|1.1|0.3|2.5|2.8|2.9|0.6|0.1|20.0|\n",
            "|      David Laury|  IC| 34|35.3|7.2|15.1|              0.475|    0.8|    2.1|               0.38|4.7|6.9|             0.682|3.0|2.7|2.5|7.2|9.7|2.8|0.8|1.3|19.8|\n",
            "|  LaDontae Henton|PROV| 34|37.0|6.8|15.2|              0.446|    1.9|    5.6|0.33899999999999997|4.3|5.6|             0.759|2.0|2.2|1.8|4.8|6.5|0.9|1.4|0.5|19.7|\n",
            "+-----------------+----+---+----+---+----+-------------------+-------+-------+-------------------+---+---+------------------+---+---+---+---+---+---+---+---+----+\n",
            "only showing top 20 rows\n",
            "\n"
          ],
          "name": "stdout"
        }
      ]
    },
    {
      "cell_type": "code",
      "metadata": {
        "id": "25diEyl-EbOQ",
        "outputId": "c4635df6-0faa-461d-d185-3cea6bde8752",
        "colab": {
          "base_uri": "https://localhost:8080/"
        }
      },
      "source": [
        "NBAdraft = NBAdraft.withColumnRenamed(\"pk\", \"Pick\")\n",
        "NBAdraft.show()"
      ],
      "execution_count": 15,
      "outputs": [
        {
          "output_type": "stream",
          "text": [
            "+----+--------------------+--------------+--------------+\n",
            "|Pick|              Player|    Conference|       College|\n",
            "+----+--------------------+--------------+--------------+\n",
            "|   8|       Collin Sexton|  Southeastern|       Alabama|\n",
            "|   1|       Deandre Ayton|        PAC-12|       Arizona|\n",
            "|   7|     Lauri Markkanen|        PAC-12|       Arizona|\n",
            "|  53|        Kadeem Allen|        PAC-12|       Arizona|\n",
            "|   8|     Stanley Johnson|        PAC-12|       Arizona|\n",
            "|  23|Rondae Hollis-Jef...|        PAC-12|       Arizona|\n",
            "|  38|      Daniel Gafford|  Southeastern|      Arkansas|\n",
            "|  22|        Bobby Portis|  Southeastern|      Arkansas|\n",
            "|  16|         Chuma Okeke|  Southeastern|        Auburn|\n",
            "|  12|Taurean Waller-Pr...|        Big-12|        Baylor|\n",
            "|  26|       Dylan Windler|          null|       Belmont|\n",
            "|  22|  Chandler Hutchison| Mountain West|   Boise State|\n",
            "|  13|     Jerome Robinson|Atlantic Coast|Boston College|\n",
            "|  42|      Olivier Hanlan|Atlantic Coast|Boston College|\n",
            "|  37|      Richaun Holmes|  Mid-American| Bowling Green|\n",
            "|  35|           Ivan Rabb|        PAC-12|    California|\n",
            "|  56|         Jabari Bird|        PAC-12|    California|\n",
            "|   3|        Jaylen Brown|        PAC-12|    California|\n",
            "|  60|      Tyrone Wallace|        PAC-12|    California|\n",
            "|  28|         Jacob Evans|      American|    Cincinnati|\n",
            "+----+--------------------+--------------+--------------+\n",
            "only showing top 20 rows\n",
            "\n"
          ],
          "name": "stdout"
        }
      ]
    },
    {
      "cell_type": "code",
      "metadata": {
        "id": "QwYTHibauZPC",
        "outputId": "c27a04d7-5bfb-44be-c7df-2537eccf438d",
        "colab": {
          "base_uri": "https://localhost:8080/"
        }
      },
      "source": [
        "School_df = School_df.withColumnRenamed(\"REV_MEN\", \"Revenue\")\n",
        "School_df = School_df.withColumnRenamed(\"EXP_MEN\", \"Expense\")\n",
        "School_df.show()"
      ],
      "execution_count": 5,
      "outputs": [
        {
          "output_type": "stream",
          "text": [
            "+--------------------+----------+------------+-----+--------+--------+----------+\n",
            "|              School|  Latitude|   Longitude|State| Revenue| Expense|    Sports|\n",
            "+--------------------+----------+------------+-----+--------+--------+----------+\n",
            "|Alabama State Uni...|32.3651836| -86.2957213|   AL|  992694|  992694|Basketball|\n",
            "|Alabama State Uni...|32.3651836| -86.2957213|   AL| 3622267| 3622267|  Football|\n",
            "|Albany State Univ...|31.5734365| -84.1425655|   GA|   88125|  255918|Basketball|\n",
            "|Albany State Univ...|31.5734365| -84.1425655|   GA|  229371| 1160234|  Football|\n",
            "|Appalachian State...|36.2109506| -81.6777048|   NC| 1952593| 1952593|Basketball|\n",
            "|Appalachian State...|36.2109506| -81.6777048|   NC| 9365952| 9365952|  Football|\n",
            "|Arizona State Uni...|33.4219437|-111.9400636|   AZ|10609465| 8349598|Basketball|\n",
            "|Arizona State Uni...|33.4219437|-111.9400636|   AZ|39007842|26245544|  Football|\n",
            "|Arkansas State Un...|35.8414567| -90.6806034|   AR| 1578156| 1578156|Basketball|\n",
            "|Arkansas State Un...|35.8414567| -90.6806034|   AR| 7789945| 7789945|  Football|\n",
            "|  Ashland University|40.8614368| -82.3228059|   OH|  601260|  601260|Basketball|\n",
            "|  Ashland University|40.8614368| -82.3228059|   OH| 2018271| 2018271|  Football|\n",
            "|  Assumption College|42.2922426| -71.8291624|   MA|  808273|  771218|Basketball|\n",
            "|  Assumption College|42.2922426| -71.8291624|   MA| 1114929| 1058325|  Football|\n",
            "|   Auburn University|32.5909562| -85.4929785|   AL|15593947|10536653|Basketball|\n",
            "|   Auburn University|32.5909562| -85.4929785|   AL|95157216|47846261|  Football|\n",
            "|Augustana University| 43.525073|   -96.73698|   SD|  809276|  809276|Basketball|\n",
            "|Augustana University| 43.525073|   -96.73698|   SD| 2146448| 2146448|  Football|\n",
            "|Ball State Univer...|40.1999048| -85.4115988|   IN| 1975432| 1975432|Basketball|\n",
            "|Ball State Univer...|40.1999048| -85.4115988|   IN| 7135305| 7135305|  Football|\n",
            "+--------------------+----------+------------+-----+--------+--------+----------+\n",
            "only showing top 20 rows\n",
            "\n"
          ],
          "name": "stdout"
        }
      ]
    },
    {
      "cell_type": "markdown",
      "metadata": {
        "id": "DwqtynLts9Mb"
      },
      "source": [
        "**Loading**"
      ]
    },
    {
      "cell_type": "code",
      "metadata": {
        "id": "e6-8QbAJsm9B"
      },
      "source": [
        "# Configure settings for RDS\n",
        "mode = \"append\"\n",
        "jdbc_url=\"jdbc:postgresql://ncaa-athletics.cr5bt5kg46tf.us-west-1.rds.amazonaws.com:5432/NCAA_Athletics\"\n",
        "config = {\"user\":\"postgres\", \n",
        "          \"password\": \"group1final\", \n",
        "          \"driver\":\"org.postgresql.Driver\"}"
      ],
      "execution_count": 13,
      "outputs": []
    },
    {
      "cell_type": "code",
      "metadata": {
        "id": "CfSriAMytYw9"
      },
      "source": [
        "# Writing NBA Stats table into RDS\n",
        "Stats.write.jdbc(url=jdbc_url, table='BballStats', mode=mode, properties=config)"
      ],
      "execution_count": 14,
      "outputs": []
    },
    {
      "cell_type": "code",
      "metadata": {
        "id": "LCt_t0a8EmVT"
      },
      "source": [
        "# Writing NBA draft data into RDS\n",
        "NBAdraft.write.jdbc(url=jdbc_url, table='NBAdraft', mode=mode, properties=config)"
      ],
      "execution_count": 16,
      "outputs": []
    },
    {
      "cell_type": "code",
      "metadata": {
        "id": "xLM68eBguP08"
      },
      "source": [
        "# Writing Schools table into RDS\n",
        "School_df.write.jdbc(url=jdbc_url, table='schools', mode=mode, properties=config)"
      ],
      "execution_count": 7,
      "outputs": []
    },
    {
      "cell_type": "code",
      "metadata": {
        "id": "vwW3Dzfovf0Z"
      },
      "source": [
        ""
      ],
      "execution_count": null,
      "outputs": []
    }
  ]
}