{
  "nbformat": 4,
  "nbformat_minor": 0,
  "metadata": {
    "colab": {
      "name": "ETL.ipynb",
      "provenance": [],
      "collapsed_sections": []
    },
    "kernelspec": {
      "name": "python3",
      "display_name": "Python 3"
    }
  },
  "cells": [
    {
      "cell_type": "code",
      "metadata": {
        "id": "GfqUrXjRZDxM",
        "outputId": "6c4e4f06-2e1b-483c-b508-b0498a9999fe",
        "colab": {
          "base_uri": "https://localhost:8080/"
        }
      },
      "source": [
        "import os\n",
        "# Find the latest version of spark 3.0  from http://www-us.apache.org/dist/spark/ and enter as the spark version\n",
        "# For example:\n",
        "spark_version = 'spark-3.0.1'\n",
        "# spark_version = 'spark-3.<enter version>'\n",
        "os.environ['SPARK_VERSION']=spark_version\n",
        "\n",
        "# Install Spark and Java\n",
        "!apt-get update\n",
        "!apt-get install openjdk-11-jdk-headless -qq > /dev/null\n",
        "!wget -q http://www-us.apache.org/dist/spark/$SPARK_VERSION/$SPARK_VERSION-bin-hadoop2.7.tgz\n",
        "!tar xf $SPARK_VERSION-bin-hadoop2.7.tgz\n",
        "!pip install -q findspark\n",
        "\n",
        "# Set Environment Variables\n",
        "os.environ[\"JAVA_HOME\"] = \"/usr/lib/jvm/java-11-openjdk-amd64\"\n",
        "os.environ[\"SPARK_HOME\"] = f\"/content/{spark_version}-bin-hadoop2.7\"\n",
        "\n",
        "# Start a SparkSession\n",
        "import findspark\n",
        "findspark.init()"
      ],
      "execution_count": 1,
      "outputs": [
        {
          "output_type": "stream",
          "text": [
            "Hit:1 https://cloud.r-project.org/bin/linux/ubuntu bionic-cran40/ InRelease\n",
            "Ign:2 https://developer.download.nvidia.com/compute/cuda/repos/ubuntu1804/x86_64  InRelease\n",
            "Ign:3 https://developer.download.nvidia.com/compute/machine-learning/repos/ubuntu1804/x86_64  InRelease\n",
            "Hit:4 https://developer.download.nvidia.com/compute/cuda/repos/ubuntu1804/x86_64  Release\n",
            "Hit:5 https://developer.download.nvidia.com/compute/machine-learning/repos/ubuntu1804/x86_64  Release\n",
            "Hit:6 http://ppa.launchpad.net/c2d4u.team/c2d4u4.0+/ubuntu bionic InRelease\n",
            "Hit:7 http://security.ubuntu.com/ubuntu bionic-security InRelease\n",
            "Hit:9 http://archive.ubuntu.com/ubuntu bionic InRelease\n",
            "Hit:11 http://ppa.launchpad.net/graphics-drivers/ppa/ubuntu bionic InRelease\n",
            "Hit:12 http://archive.ubuntu.com/ubuntu bionic-updates InRelease\n",
            "Hit:13 http://archive.ubuntu.com/ubuntu bionic-backports InRelease\n",
            "Reading package lists... Done\n"
          ],
          "name": "stdout"
        }
      ]
    },
    {
      "cell_type": "code",
      "metadata": {
        "id": "2X3OQPfUvGX9",
        "outputId": "22867b26-a7ea-462f-f91f-2a6f55b34c62",
        "colab": {
          "base_uri": "https://localhost:8080/"
        }
      },
      "source": [
        "!wget https://jdbc.postgresql.org/download/postgresql-42.2.9.jar"
      ],
      "execution_count": 2,
      "outputs": [
        {
          "output_type": "stream",
          "text": [
            "--2020-11-14 18:55:58--  https://jdbc.postgresql.org/download/postgresql-42.2.9.jar\n",
            "Resolving jdbc.postgresql.org (jdbc.postgresql.org)... 72.32.157.228, 2001:4800:3e1:1::228\n",
            "Connecting to jdbc.postgresql.org (jdbc.postgresql.org)|72.32.157.228|:443... connected.\n",
            "HTTP request sent, awaiting response... 200 OK\n",
            "Length: 914037 (893K) [application/java-archive]\n",
            "Saving to: ‘postgresql-42.2.9.jar.1’\n",
            "\n",
            "postgresql-42.2.9.j 100%[===================>] 892.61K  1.05MB/s    in 0.8s    \n",
            "\n",
            "2020-11-14 18:56:00 (1.05 MB/s) - ‘postgresql-42.2.9.jar.1’ saved [914037/914037]\n",
            "\n"
          ],
          "name": "stdout"
        }
      ]
    },
    {
      "cell_type": "code",
      "metadata": {
        "id": "iD4WphUqZF2L"
      },
      "source": [
        "from pyspark.sql import SparkSession\n",
        "spark = SparkSession.builder.appName(\"NCAA\").config(\"spark.driver.extraClassPath\",\"/content/postgresql-42.2.9.jar\").getOrCreate()"
      ],
      "execution_count": 3,
      "outputs": []
    },
    {
      "cell_type": "markdown",
      "metadata": {
        "id": "A_dg78ZuswA7"
      },
      "source": [
        "Extraction"
      ]
    },
    {
      "cell_type": "code",
      "metadata": {
        "id": "701kGYE3ZJo0"
      },
      "source": [
        "from pyspark import SparkFiles\n",
        "# Connecting to S3 for Basketball Stats\n",
        "url = \"https://ncaaproject.s3-us-west-1.amazonaws.com/NBA.csv\"\n",
        "spark.sparkContext.addFile(url)\n",
        "\n",
        "NBAstats = spark.read.option(\"header\", \"true\").csv(SparkFiles.get(\"NBA.csv\"), inferSchema=True, sep=\",\")\n",
        "# NBAstats.show(10)"
      ],
      "execution_count": 4,
      "outputs": []
    },
    {
      "cell_type": "code",
      "metadata": {
        "id": "HpZNQIBxl0O3",
        "outputId": "61ef247a-f7e1-4e85-c34b-c91e532571b7",
        "colab": {
          "base_uri": "https://localhost:8080/"
        }
      },
      "source": [
        "NBAstats.count()"
      ],
      "execution_count": 5,
      "outputs": [
        {
          "output_type": "execute_result",
          "data": {
            "text/plain": [
              "11762"
            ]
          },
          "metadata": {
            "tags": []
          },
          "execution_count": 5
        }
      ]
    },
    {
      "cell_type": "code",
      "metadata": {
        "id": "qAfExIVrbwss"
      },
      "source": [
        "# Print our schema\n",
        "NBAstats.printSchema()"
      ],
      "execution_count": null,
      "outputs": []
    },
    {
      "cell_type": "code",
      "metadata": {
        "id": "-9Y_rUV3_r13"
      },
      "source": [
        "from pyspark import SparkFiles\n",
        "# Connecting to S3 for NBA draft data\n",
        "url = \"https://ncaaproject.s3-us-west-1.amazonaws.com/NBAdraft.csv\"\n",
        "spark.sparkContext.addFile(url)\n",
        "\n",
        "NBAdraft = spark.read.option(\"header\", \"true\").csv(SparkFiles.get(\"NBAdraft.csv\"), inferSchema=True, sep=\",\")\n",
        "# NBAdraft.show(10)"
      ],
      "execution_count": 6,
      "outputs": []
    },
    {
      "cell_type": "code",
      "metadata": {
        "id": "Z0g1SRWnAAtH",
        "outputId": "4bb3225f-9f7d-4c27-f87d-316b0addd357",
        "colab": {
          "base_uri": "https://localhost:8080/"
        }
      },
      "source": [
        "NBAdraft.count()"
      ],
      "execution_count": 7,
      "outputs": [
        {
          "output_type": "execute_result",
          "data": {
            "text/plain": [
              "300"
            ]
          },
          "metadata": {
            "tags": []
          },
          "execution_count": 7
        }
      ]
    },
    {
      "cell_type": "code",
      "metadata": {
        "id": "3pt6yp_6ADp_"
      },
      "source": [
        "# Print our schema\n",
        "NBAdraft.printSchema()"
      ],
      "execution_count": null,
      "outputs": []
    },
    {
      "cell_type": "code",
      "metadata": {
        "id": "KAdPQf4p_12X",
        "outputId": "2d4a69c8-dd32-4155-fc6e-e216b81c011f",
        "colab": {
          "base_uri": "https://localhost:8080/"
        }
      },
      "source": [
        "from pyspark import SparkFiles\n",
        "# Connecting to S3 for NFL Draft Data\n",
        "url = \"https://ncaaproject.s3-us-west-1.amazonaws.com/NFLdraft.csv\"\n",
        "spark.sparkContext.addFile(url)\n",
        "\n",
        "NFL = spark.read.option(\"header\", \"true\").csv(SparkFiles.get(\"NFLdraft.csv\"), inferSchema=True, sep=\",\")\n",
        "NFL.show(10)"
      ],
      "execution_count": 15,
      "outputs": [
        {
          "output_type": "stream",
          "text": [
            "+---------+---+----+--------------------+----------------+-----------+--------+--------------+---------------------+--------------+\n",
            "|DraftYear|Rnd|Pick|                Team|          Player|GradeFileID|Position|       College|CollegeBudgetFileName|    Conference|\n",
            "+---------+---+----+--------------------+----------------+-----------+--------+--------------+---------------------+--------------+\n",
            "|     2019|  2|  51|    Tennessee Titans|      A.J. Brown|      46204|      WR|   Mississippi| University of Mis...|           SEC|\n",
            "|     2015|  3|  67|Jacksonville Jaguars|       A.J. Cann|       9500|       G|South Carolina| University of Sou...|           SEC|\n",
            "|     2015|  6| 202|New England Patriots|      A.J. Derby|       9635|      TE|      Arkansas| University of Ark...|           SEC|\n",
            "|     2020|  2|  62|   Green Bay Packers|     A.J. Dillon|      57165|      RB|   Boston Col.|       Boston College|           ACC|\n",
            "|     2020|  2|  54|       Buffalo Bills|    A.J. Epenesa|      56369|      DE|          Iowa|   University of Iowa|       Big Ten|\n",
            "|     2020|  1|  16|     Atlanta Falcons|      AJ Terrell|      55586|      CB|       Clemson|   Clemson University|           ACC|\n",
            "|     2016|  2|  46|       Detroit Lions|A'Shawn Robinson|      10680|      DT|       Alabama| The University of...|           SEC|\n",
            "|     2016|  6| 213| San Francisco 49ers| Aaron Burbridge|      10847|      WR|  Michigan St.| Michigan State Un...|       Big Ten|\n",
            "|     2017|  5| 182|   Green Bay Packers|     Aaron Jones|      11937|      RB| Texas-El Paso| The University of...|Conference USA|\n",
            "|     2015|  6| 206|   Green Bay Packers| Aaron Ripkowski|       9639|      FB|      Oklahoma| University of Okl...|        Big 12|\n",
            "+---------+---+----+--------------------+----------------+-----------+--------+--------------+---------------------+--------------+\n",
            "only showing top 10 rows\n",
            "\n"
          ],
          "name": "stdout"
        }
      ]
    },
    {
      "cell_type": "code",
      "metadata": {
        "id": "rcV8npZwAyIH",
        "outputId": "d53ec80e-6c2e-4703-a025-ca83f5e3a68e",
        "colab": {
          "base_uri": "https://localhost:8080/"
        }
      },
      "source": [
        "NFL.count()"
      ],
      "execution_count": 16,
      "outputs": [
        {
          "output_type": "execute_result",
          "data": {
            "text/plain": [
              "1531"
            ]
          },
          "metadata": {
            "tags": []
          },
          "execution_count": 16
        }
      ]
    },
    {
      "cell_type": "code",
      "metadata": {
        "id": "dJjAc706A0J6",
        "outputId": "534cb866-09d8-4abe-d543-6093e546da71",
        "colab": {
          "base_uri": "https://localhost:8080/"
        }
      },
      "source": [
        "# Print our schema\n",
        "NFL.printSchema()"
      ],
      "execution_count": 17,
      "outputs": [
        {
          "output_type": "stream",
          "text": [
            "root\n",
            " |-- DraftYear: integer (nullable = true)\n",
            " |-- Rnd: integer (nullable = true)\n",
            " |-- Pick: integer (nullable = true)\n",
            " |-- Team: string (nullable = true)\n",
            " |-- Player: string (nullable = true)\n",
            " |-- GradeFileID: string (nullable = true)\n",
            " |-- Position: string (nullable = true)\n",
            " |-- College: string (nullable = true)\n",
            " |-- CollegeBudgetFileName: string (nullable = true)\n",
            " |-- Conference: string (nullable = true)\n",
            "\n"
          ],
          "name": "stdout"
        }
      ]
    },
    {
      "cell_type": "code",
      "metadata": {
        "id": "6sjVGZIJt9Db"
      },
      "source": [
        "from pyspark import SparkFiles\n",
        "# Connecting to S3 for School Data\n",
        "url = \"https://ncaaproject.s3-us-west-1.amazonaws.com/SchoolCleaned.csv\"\n",
        "spark.sparkContext.addFile(url)\n",
        "\n",
        "School_df = spark.read.option(\"header\", \"true\").csv(SparkFiles.get(\"SchoolCleaned.csv\"), inferSchema=True, sep=\",\")\n",
        "School_df.show(10)"
      ],
      "execution_count": null,
      "outputs": []
    },
    {
      "cell_type": "code",
      "metadata": {
        "id": "xlWxkN0uuSQR"
      },
      "source": [
        "School_df.count()"
      ],
      "execution_count": null,
      "outputs": []
    },
    {
      "cell_type": "code",
      "metadata": {
        "id": "8QRNDwiOuU-o"
      },
      "source": [
        "# Print our schema\n",
        "School_df.printSchema()"
      ],
      "execution_count": null,
      "outputs": []
    },
    {
      "cell_type": "markdown",
      "metadata": {
        "id": "Mig4jLXfuZy_"
      },
      "source": [
        "**Transformation**"
      ]
    },
    {
      "cell_type": "code",
      "metadata": {
        "id": "6oCJKQxvAR2F",
        "outputId": "33445919-5dc1-42a3-9139-9f0a62c20efa",
        "colab": {
          "base_uri": "https://localhost:8080/"
        }
      },
      "source": [
        "pdf = NBAstats.toPandas()\n",
        "df_dedupe = pdf.rename(columns={'FG%':'FG_pct', '3PM':'ThreePM',\n",
        "                                '3PA':'ThreePA', '3P%':'Three_pct',\n",
        "                                'FT%':'FT_pct'}).drop_duplicates(subset=['Player'], keep='last').round(3)\n",
        "NBAstats = spark.createDataFrame(df_dedupe)\n",
        "NBAstats.show()"
      ],
      "execution_count": 8,
      "outputs": [
        {
          "output_type": "stream",
          "text": [
            "+-----------------+----+---+----+---+----+------+-------+-------+---------+---+---+------+---+---+---+---+---+---+---+---+----+\n",
            "|           Player|Team| GP| MPG|FGM| FGA|FG_pct|ThreePM|ThreePA|Three_pct|FTM|FTA|FT_pct|TOV| PF|ORB|DRB|RPG|APG|SPG|BPG| PPG|\n",
            "+-----------------+----+---+----+---+----+------+-------+-------+---------+---+---+------+---+---+---+---+---+---+---+---+----+\n",
            "|     Tyler Harvey| EWU| 32|36.9|7.2|15.3| 0.469|    4.0|    9.3|    0.431|4.7|5.5| 0.852|2.0|1.9|0.6|3.0|3.6|2.6|1.1|0.1|23.1|\n",
            "|       Tyler Haws| BYU| 35|32.1|7.4|15.4|  0.48|    1.5|    4.2|    0.367|5.9|6.7| 0.873|2.0|1.4|1.3|3.1|4.5|2.4|0.9|0.3|22.2|\n",
            "|Denzel Livingston| UIW| 29|36.9|6.6|14.4| 0.455|    1.6|    4.6|    0.343|6.8|8.5| 0.805|2.8|3.0|1.5|4.4|5.9|2.9|2.6|1.3|21.5|\n",
            "|      Saah Nimley| CSU| 31|35.7|5.9|15.4| 0.384|    3.5|    9.9|    0.358|6.0|7.4|  0.82|2.7|2.2|0.5|3.5|4.1|4.1|0.9|0.0|21.4|\n",
            "|        Amere May|DESU| 32|34.2|7.1|17.0| 0.418|    2.8|    7.2|    0.387|4.0|4.9| 0.821|2.9|1.8|1.0|3.2|4.2|2.7|1.0|0.2|21.0|\n",
            "|    Corey Hawkins| UCD| 28|33.4|6.7|13.4| 0.503|    2.9|    5.9|    0.488|4.6|5.6| 0.822|3.0|1.9|0.7|4.2|4.9|3.4|1.4|0.2|20.9|\n",
            "|     D.J. Newbill| PSU| 34|37.1|7.1|15.9|  0.45|    1.8|    4.9|     0.37|4.6|6.1| 0.758|2.6|2.1|1.1|3.6|4.7|3.1|1.3|0.2|20.7|\n",
            "|        Joe Young|  UO| 36|36.7|7.4|16.4| 0.448|    2.5|    7.1|    0.357|3.4|3.7| 0.925|2.4|1.4|0.5|3.9|4.4|3.8|1.1|0.0|20.7|\n",
            "|  Chavaughn Lewis| MAR| 29|35.7|7.0|16.9| 0.413|    1.4|    4.9|    0.289|5.1|7.7| 0.665|3.6|2.4|0.9|4.4|5.3|2.7|2.3|0.8|20.6|\n",
            "|        Ty Greene|USCU| 35|34.0|6.6|14.9| 0.444|    2.9|    7.2|    0.407|4.1|5.4| 0.751|1.3|1.6|0.9|2.2|3.1|2.1|2.1|0.2|20.3|\n",
            "|      Jalen Riley|ETSU| 29|27.5|5.7|14.7| 0.387|    2.8|    7.4|    0.374|6.1|7.4| 0.827|2.8|3.3|0.4|1.9|2.3|2.7|1.7|0.1|20.2|\n",
            "|    Cameron Payne| MSU| 35|32.2|7.0|15.3| 0.456|    2.4|    6.4|    0.377|3.8|4.8| 0.787|2.5|2.1|0.6|3.1|3.7|6.0|1.9|0.5|20.2|\n",
            "|       Jalan West| NSU| 32|34.5|6.0|13.2| 0.456|    2.7|    6.4|    0.422|5.3|6.1| 0.862|2.8|2.0|0.6|3.8|4.4|7.7|2.1|0.3|20.0|\n",
            "|      David Laury|  IC| 34|35.3|7.2|15.1| 0.475|    0.8|    2.1|     0.38|4.7|6.9| 0.682|3.0|2.7|2.5|7.2|9.7|2.8|0.8|1.3|19.8|\n",
            "|  LaDontae Henton|PROV| 34|37.0|6.8|15.2| 0.446|    1.9|    5.6|    0.339|4.3|5.6| 0.759|2.0|2.2|1.8|4.8|6.5|0.9|1.4|0.5|19.7|\n",
            "|      R.J. Hunter| GSU| 35|37.0|5.8|14.7| 0.395|    2.3|    7.5|    0.305|5.8|6.6| 0.878|2.2|2.4|0.8|3.9|4.7|3.6|2.1|1.0|19.7|\n",
            "|   Chasson Randle|  SU| 37|36.4|5.9|14.6| 0.403|    2.4|    6.7|    0.363|5.4|6.2| 0.877|2.0|2.2|0.3|3.0|3.3|3.0|1.4|0.1|19.6|\n",
            "|   Olivier Hanlan|  BC| 32|37.6|7.0|15.5| 0.454|    2.0|    5.8|    0.353|3.4|4.5| 0.759|2.7|2.1|0.8|3.5|4.2|4.2|1.3|0.0|19.5|\n",
            "|    Derrick Marks| BSU| 32|31.2|7.2|14.6| 0.494|    2.1|    4.9|    0.436|2.8|3.7| 0.771|2.1|2.2|0.5|3.2|3.7|3.0|1.8|0.4|19.4|\n",
            "|   James Sinclair| WCU| 31|38.1|6.9|17.2| 0.402|    1.6|    5.2|    0.315|3.9|5.1| 0.767|2.5|2.1|1.9|4.2|6.0|2.9|2.2|0.5|19.4|\n",
            "+-----------------+----+---+----+---+----+------+-------+-------+---------+---+---+------+---+---+---+---+---+---+---+---+----+\n",
            "only showing top 20 rows\n",
            "\n"
          ],
          "name": "stdout"
        }
      ]
    },
    {
      "cell_type": "code",
      "metadata": {
        "id": "Ctzve5b952m8",
        "outputId": "5cba9449-0d3b-419b-c789-d59025291f4e",
        "colab": {
          "base_uri": "https://localhost:8080/"
        }
      },
      "source": [
        "NBAstats.count()"
      ],
      "execution_count": 9,
      "outputs": [
        {
          "output_type": "execute_result",
          "data": {
            "text/plain": [
              "6508"
            ]
          },
          "metadata": {
            "tags": []
          },
          "execution_count": 9
        }
      ]
    },
    {
      "cell_type": "code",
      "metadata": {
        "id": "25diEyl-EbOQ",
        "outputId": "a98b8eea-f022-45e5-e678-7dffd197e577",
        "colab": {
          "base_uri": "https://localhost:8080/"
        }
      },
      "source": [
        "pdf = NBAdraft.toPandas()\n",
        "df_dedupe = pdf.rename(columns={'Pk':'Pick','Player':'Name'}).drop_duplicates(subset=['Name'], keep='last')\n",
        "NBAdraft = spark.createDataFrame(df_dedupe)\n",
        "NBAdraft.show()"
      ],
      "execution_count": 10,
      "outputs": [
        {
          "output_type": "stream",
          "text": [
            "+----+--------------------+--------------+--------------+\n",
            "|Pick|                Name|    Conference|       College|\n",
            "+----+--------------------+--------------+--------------+\n",
            "|   8|       Collin Sexton|  Southeastern|       Alabama|\n",
            "|   1|       Deandre Ayton|        PAC-12|       Arizona|\n",
            "|   7|     Lauri Markkanen|        PAC-12|       Arizona|\n",
            "|  53|        Kadeem Allen|        PAC-12|       Arizona|\n",
            "|   8|     Stanley Johnson|        PAC-12|       Arizona|\n",
            "|  23|Rondae Hollis-Jef...|        PAC-12|       Arizona|\n",
            "|  38|      Daniel Gafford|  Southeastern|      Arkansas|\n",
            "|  22|        Bobby Portis|  Southeastern|      Arkansas|\n",
            "|  16|         Chuma Okeke|  Southeastern|        Auburn|\n",
            "|  12|Taurean Waller-Pr...|        Big-12|        Baylor|\n",
            "|  26|       Dylan Windler|          null|       Belmont|\n",
            "|  22|  Chandler Hutchison| Mountain West|   Boise State|\n",
            "|  13|     Jerome Robinson|Atlantic Coast|Boston College|\n",
            "|  42|      Olivier Hanlan|Atlantic Coast|Boston College|\n",
            "|  37|      Richaun Holmes|  Mid-American| Bowling Green|\n",
            "|  35|           Ivan Rabb|        PAC-12|    California|\n",
            "|  56|         Jabari Bird|        PAC-12|    California|\n",
            "|   3|        Jaylen Brown|        PAC-12|    California|\n",
            "|  60|      Tyrone Wallace|        PAC-12|    California|\n",
            "|  28|         Jacob Evans|      American|    Cincinnati|\n",
            "+----+--------------------+--------------+--------------+\n",
            "only showing top 20 rows\n",
            "\n"
          ],
          "name": "stdout"
        }
      ]
    },
    {
      "cell_type": "code",
      "metadata": {
        "id": "4ROT5evk2usQ",
        "outputId": "e7a09cc4-62c5-42eb-b896-563fe54a6148",
        "colab": {
          "base_uri": "https://localhost:8080/"
        }
      },
      "source": [
        "NBAdraft.count()"
      ],
      "execution_count": 11,
      "outputs": [
        {
          "output_type": "execute_result",
          "data": {
            "text/plain": [
              "299"
            ]
          },
          "metadata": {
            "tags": []
          },
          "execution_count": 11
        }
      ]
    },
    {
      "cell_type": "code",
      "metadata": {
        "id": "QwYTHibauZPC"
      },
      "source": [
        "School_df = School_df.withColumnRenamed(\"REV_MEN\", \"Revenue\")\n",
        "School_df = School_df.withColumnRenamed(\"EXP_MEN\", \"Expense\")\n",
        "School_df.show()"
      ],
      "execution_count": null,
      "outputs": []
    },
    {
      "cell_type": "markdown",
      "metadata": {
        "id": "DwqtynLts9Mb"
      },
      "source": [
        "**Loading**"
      ]
    },
    {
      "cell_type": "code",
      "metadata": {
        "id": "e6-8QbAJsm9B"
      },
      "source": [
        "# Configure settings for RDS\n",
        "mode = \"append\"\n",
        "jdbc_url=\"jdbc:postgresql://ncaa-athletics.cr5bt5kg46tf.us-west-1.rds.amazonaws.com:5432/NCAA_Athletics\"\n",
        "config = {\"user\":\"postgres\", \n",
        "          \"password\": \"group1final\", \n",
        "          \"driver\":\"org.postgresql.Driver\"}"
      ],
      "execution_count": 18,
      "outputs": []
    },
    {
      "cell_type": "code",
      "metadata": {
        "id": "CfSriAMytYw9"
      },
      "source": [
        "# Writing NBA Stats table into RDS\n",
        "NBAstats.write.jdbc(url=jdbc_url, table='BballStats', mode=mode, properties=config)"
      ],
      "execution_count": 13,
      "outputs": []
    },
    {
      "cell_type": "code",
      "metadata": {
        "id": "LCt_t0a8EmVT"
      },
      "source": [
        "# Writing NBA draft data into RDS\n",
        "NBAdraft.write.jdbc(url=jdbc_url, table='NBAdraft', mode=mode, properties=config)"
      ],
      "execution_count": 14,
      "outputs": []
    },
    {
      "cell_type": "code",
      "metadata": {
        "id": "kM3uHjdPQUKR"
      },
      "source": [
        "# Writing NFL draft data into RDS\n",
        "NFL.write.jdbc(url=jdbc_url, table='NFL', mode=mode, properties=config)"
      ],
      "execution_count": 20,
      "outputs": []
    },
    {
      "cell_type": "code",
      "metadata": {
        "id": "xLM68eBguP08"
      },
      "source": [
        "# Writing Schools table into RDS\n",
        "School_df.write.jdbc(url=jdbc_url, table='schools', mode=mode, properties=config)"
      ],
      "execution_count": null,
      "outputs": []
    },
    {
      "cell_type": "code",
      "metadata": {
        "id": "vwW3Dzfovf0Z"
      },
      "source": [
        ""
      ],
      "execution_count": null,
      "outputs": []
    }
  ]
}